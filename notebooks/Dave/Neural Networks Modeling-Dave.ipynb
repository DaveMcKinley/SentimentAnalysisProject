{
 "cells": [
  {
   "cell_type": "code",
   "execution_count": 1,
   "id": "cbd39238",
   "metadata": {},
   "outputs": [],
   "source": [
    "#import need libraries\n",
    "import pandas as pd\n",
    "import numpy as np\n",
    "import matplotlib.pyplot as plt\n",
    "import string\n",
    "\n",
    "import nltk\n",
    "from nltk.tokenize import RegexpTokenizer, TweetTokenizer\n",
    "from nltk.corpus import stopwords\n",
    "from nltk.stem import WordNetLemmatizer\n",
    "import re\n",
    "\n",
    "from sklearn.model_selection import train_test_split\n",
    "from numpy import array\n",
    "from tensorflow import keras\n",
    "from tensorflow.keras import regularizers, layers\n",
    "from keras.preprocessing.sequence import pad_sequences\n",
    "from keras.models import Sequential\n",
    "from keras.layers.core import Activation, Dropout, Dense\n",
    "from keras.layers import Flatten\n",
    "from keras.layers.embeddings import Embedding\n",
    "from keras.preprocessing.text import Tokenizer"
   ]
  },
  {
   "cell_type": "code",
   "execution_count": 2,
   "id": "231e0eff",
   "metadata": {},
   "outputs": [],
   "source": [
    "def clean_tweets(text):\n",
    "    \"\"\"\n",
    "    This function takes tweets and prepares them for modeling\n",
    "    \"\"\"\n",
    "    no_handle = tweet_tknzr.tokenize(text) # Tweet tokenizer removes Twitter mentions\n",
    "    tweet = \" \".join(no_handle) #bring tokens back \n",
    "    clean = re.sub(\"(https?:\\/\\/\\S+) \\\n",
    "                   |(#[A-Za-z0-9_]+) \\\n",
    "                   |(\\{([a-zA-Z].+)\\}) \\\n",
    "                   |(&[a-z]+;) \\\n",
    "                   |(www\\.[a-z]?\\.?(com)+|[a-z]+\\.(com))\\\n",
    "                   |(\\[video\\])\\\n",
    "                   |([^\\x00-\\x7F]+\\ *(?:[^\\x00-\\x7F]| )*)\",\" \", tweet) #remove http websites, \n",
    "                                                                       #remove pound sign, \n",
    "                                                                       #removes brackets, #\n",
    "                                                                       # any words with ampersand right in front\n",
    "                                                                       # ?, www dot com websites, \n",
    "                                                                       #videos,\n",
    "                                                                       #non english characters\n",
    "    lower = clean.lower() \n",
    "    token_list = tokenizer.tokenize(lower)\n",
    "    stopwords_removed=[token for token in token_list if token not in stopwords_list]\n",
    "    lemma_list = [lemma.lemmatize(token) for token in stopwords_removed]\n",
    "    cleaned_string = \" \".join(lemma_list) #Turn the lemma list into a string for the Vectorizer\n",
    "    return cleaned_string"
   ]
  },
  {
   "cell_type": "code",
   "execution_count": 3,
   "id": "d8b5124c",
   "metadata": {},
   "outputs": [],
   "source": [
    "def create_embedding_matrix(glove_filepath, word_index, embedding_dim):\n",
    "    '''\n",
    "    \n",
    "    Grabs the embeddings just for the words in our vocabulary\n",
    "    \n",
    "    Inputs:\n",
    "    glove_filepath - string, location of the glove text file to use\n",
    "    word_index - word_index attribute from the keras tokenizer\n",
    "    embedding_dim - int, number of dimensions to embed, a hyperparameter\n",
    "    \n",
    "    Output:\n",
    "    embedding_matrix - numpy array of embeddings\n",
    "    '''\n",
    "    vocab_size = len(word_index) + 1  # Adding again 1 because of reserved 0 index\n",
    "    embedding_matrix = np.zeros((vocab_size, embedding_dim))\n",
    "\n",
    "    with open(glove_filepath, encoding=\"utf8\") as f:\n",
    "        for line in f:\n",
    "            word, *vector = line.split()\n",
    "            if word in word_index:\n",
    "                idx = word_index[word] \n",
    "                embedding_matrix[idx] = np.array(\n",
    "                    vector, dtype=np.float32)[:embedding_dim]\n",
    "\n",
    "    return embedding_matrix"
   ]
  },
  {
   "cell_type": "code",
   "execution_count": 4,
   "id": "e2b9a591",
   "metadata": {},
   "outputs": [],
   "source": [
    "def visualize_training_results(history):\n",
    "    '''\n",
    "    From https://machinelearningmastery.com/display-deep-learning-model-training-history-in-keras/\n",
    "    \n",
    "    Input: keras history object (output from trained model)\n",
    "    '''\n",
    "    fig, (ax1, ax2) = plt.subplots(2, sharex=True)\n",
    "    fig.suptitle('Model Results')\n",
    "\n",
    "    # summarize history for accuracy\n",
    "    ax1.plot(history.history['accuracy'])\n",
    "    ax1.plot(history.history['val_accuracy'])\n",
    "    ax1.set_ylabel('Accuracy')\n",
    "    ax1.legend(['train', 'test'], loc='upper left')\n",
    "    # summarize history for loss\n",
    "    ax2.plot(history.history['loss'])\n",
    "    ax2.plot(history.history['val_loss'])\n",
    "    ax2.set_ylabel('Loss')\n",
    "    ax2.legend(['train', 'test'], loc='upper left')\n",
    "    \n",
    "    plt.xlabel('Epoch')\n",
    "    plt.show()"
   ]
  },
  {
   "cell_type": "code",
   "execution_count": 5,
   "id": "3809090b",
   "metadata": {},
   "outputs": [
    {
     "data": {
      "text/html": [
       "<div>\n",
       "<style scoped>\n",
       "    .dataframe tbody tr th:only-of-type {\n",
       "        vertical-align: middle;\n",
       "    }\n",
       "\n",
       "    .dataframe tbody tr th {\n",
       "        vertical-align: top;\n",
       "    }\n",
       "\n",
       "    .dataframe thead th {\n",
       "        text-align: right;\n",
       "    }\n",
       "</style>\n",
       "<table border=\"1\" class=\"dataframe\">\n",
       "  <thead>\n",
       "    <tr style=\"text-align: right;\">\n",
       "      <th></th>\n",
       "      <th>Tweet</th>\n",
       "      <th>Product</th>\n",
       "      <th>Sentiment</th>\n",
       "      <th>Brand</th>\n",
       "    </tr>\n",
       "  </thead>\n",
       "  <tbody>\n",
       "    <tr>\n",
       "      <th>0</th>\n",
       "      <td>.@wesley83 I have a 3G iPhone. After 3 hrs twe...</td>\n",
       "      <td>iPhone</td>\n",
       "      <td>Negative emotion</td>\n",
       "      <td>Apple</td>\n",
       "    </tr>\n",
       "    <tr>\n",
       "      <th>1</th>\n",
       "      <td>@jessedee Know about @fludapp ? Awesome iPad/i...</td>\n",
       "      <td>iPad or iPhone App</td>\n",
       "      <td>Positive emotion</td>\n",
       "      <td>Apple</td>\n",
       "    </tr>\n",
       "    <tr>\n",
       "      <th>2</th>\n",
       "      <td>@swonderlin Can not wait for #iPad 2 also. The...</td>\n",
       "      <td>iPad</td>\n",
       "      <td>Positive emotion</td>\n",
       "      <td>Apple</td>\n",
       "    </tr>\n",
       "    <tr>\n",
       "      <th>3</th>\n",
       "      <td>@sxsw I hope this year's festival isn't as cra...</td>\n",
       "      <td>iPad or iPhone App</td>\n",
       "      <td>Negative emotion</td>\n",
       "      <td>Apple</td>\n",
       "    </tr>\n",
       "    <tr>\n",
       "      <th>4</th>\n",
       "      <td>@sxtxstate great stuff on Fri #SXSW: Marissa M...</td>\n",
       "      <td>Google</td>\n",
       "      <td>Positive emotion</td>\n",
       "      <td>Google</td>\n",
       "    </tr>\n",
       "    <tr>\n",
       "      <th>...</th>\n",
       "      <td>...</td>\n",
       "      <td>...</td>\n",
       "      <td>...</td>\n",
       "      <td>...</td>\n",
       "    </tr>\n",
       "    <tr>\n",
       "      <th>9064</th>\n",
       "      <td>@mention Yup, but I don't have a third app yet...</td>\n",
       "      <td>Undefined</td>\n",
       "      <td>No emotion</td>\n",
       "      <td>Google</td>\n",
       "    </tr>\n",
       "    <tr>\n",
       "      <th>9065</th>\n",
       "      <td>Ipad everywhere. #SXSW {link}</td>\n",
       "      <td>iPad</td>\n",
       "      <td>Positive emotion</td>\n",
       "      <td>Apple</td>\n",
       "    </tr>\n",
       "    <tr>\n",
       "      <th>9066</th>\n",
       "      <td>Wave, buzz... RT @mention We interrupt your re...</td>\n",
       "      <td>Undefined</td>\n",
       "      <td>No emotion</td>\n",
       "      <td>Google</td>\n",
       "    </tr>\n",
       "    <tr>\n",
       "      <th>9067</th>\n",
       "      <td>Google's Zeiger, a physician never reported po...</td>\n",
       "      <td>Undefined</td>\n",
       "      <td>No emotion</td>\n",
       "      <td>Google</td>\n",
       "    </tr>\n",
       "    <tr>\n",
       "      <th>9068</th>\n",
       "      <td>Some Verizon iPhone customers complained their...</td>\n",
       "      <td>Undefined</td>\n",
       "      <td>No emotion</td>\n",
       "      <td>Apple</td>\n",
       "    </tr>\n",
       "  </tbody>\n",
       "</table>\n",
       "<p>9069 rows × 4 columns</p>\n",
       "</div>"
      ],
      "text/plain": [
       "                                                  Tweet             Product  \\\n",
       "0     .@wesley83 I have a 3G iPhone. After 3 hrs twe...              iPhone   \n",
       "1     @jessedee Know about @fludapp ? Awesome iPad/i...  iPad or iPhone App   \n",
       "2     @swonderlin Can not wait for #iPad 2 also. The...                iPad   \n",
       "3     @sxsw I hope this year's festival isn't as cra...  iPad or iPhone App   \n",
       "4     @sxtxstate great stuff on Fri #SXSW: Marissa M...              Google   \n",
       "...                                                 ...                 ...   \n",
       "9064  @mention Yup, but I don't have a third app yet...           Undefined   \n",
       "9065                      Ipad everywhere. #SXSW {link}                iPad   \n",
       "9066  Wave, buzz... RT @mention We interrupt your re...           Undefined   \n",
       "9067  Google's Zeiger, a physician never reported po...           Undefined   \n",
       "9068  Some Verizon iPhone customers complained their...           Undefined   \n",
       "\n",
       "             Sentiment   Brand  \n",
       "0     Negative emotion   Apple  \n",
       "1     Positive emotion   Apple  \n",
       "2     Positive emotion   Apple  \n",
       "3     Negative emotion   Apple  \n",
       "4     Positive emotion  Google  \n",
       "...                ...     ...  \n",
       "9064        No emotion  Google  \n",
       "9065  Positive emotion   Apple  \n",
       "9066        No emotion  Google  \n",
       "9067        No emotion  Google  \n",
       "9068        No emotion   Apple  \n",
       "\n",
       "[9069 rows x 4 columns]"
      ]
     },
     "execution_count": 5,
     "metadata": {},
     "output_type": "execute_result"
    }
   ],
   "source": [
    "#pull out pickled DataFrame\n",
    "cleaned = pd.read_pickle(\"./cleaned.pkl\")\n",
    "cleaned"
   ]
  },
  {
   "cell_type": "code",
   "execution_count": 6,
   "id": "5a8d1592",
   "metadata": {},
   "outputs": [],
   "source": [
    "#Setting the target to a binary classification\n",
    "dict_sent = {\"No emotion\":0, \n",
    "             \"Positive emotion\":1,\n",
    "             \"Negative emotion\":0,\n",
    "             \"I can't tell\": 0}\n",
    "cleaned['Sentiment'] = cleaned['Sentiment'].map(dict_sent)"
   ]
  },
  {
   "cell_type": "code",
   "execution_count": 7,
   "id": "438a1912",
   "metadata": {},
   "outputs": [
    {
     "data": {
      "text/plain": [
       "0    6099\n",
       "1    2970\n",
       "Name: Sentiment, dtype: int64"
      ]
     },
     "execution_count": 7,
     "metadata": {},
     "output_type": "execute_result"
    }
   ],
   "source": [
    "#percentage of Tweets by sentiment\n",
    "cleaned[\"Sentiment\"].value_counts()"
   ]
  },
  {
   "cell_type": "code",
   "execution_count": 8,
   "id": "84dd831b",
   "metadata": {},
   "outputs": [
    {
     "data": {
      "text/html": [
       "<div>\n",
       "<style scoped>\n",
       "    .dataframe tbody tr th:only-of-type {\n",
       "        vertical-align: middle;\n",
       "    }\n",
       "\n",
       "    .dataframe tbody tr th {\n",
       "        vertical-align: top;\n",
       "    }\n",
       "\n",
       "    .dataframe thead th {\n",
       "        text-align: right;\n",
       "    }\n",
       "</style>\n",
       "<table border=\"1\" class=\"dataframe\">\n",
       "  <thead>\n",
       "    <tr style=\"text-align: right;\">\n",
       "      <th></th>\n",
       "      <th>Tweet</th>\n",
       "      <th>Product</th>\n",
       "      <th>Sentiment</th>\n",
       "      <th>Brand</th>\n",
       "    </tr>\n",
       "  </thead>\n",
       "  <tbody>\n",
       "    <tr>\n",
       "      <th>0</th>\n",
       "      <td>.@wesley83 I have a 3G iPhone. After 3 hrs twe...</td>\n",
       "      <td>iPhone</td>\n",
       "      <td>0</td>\n",
       "      <td>Apple</td>\n",
       "    </tr>\n",
       "    <tr>\n",
       "      <th>1</th>\n",
       "      <td>@jessedee Know about @fludapp ? Awesome iPad/i...</td>\n",
       "      <td>iPad or iPhone App</td>\n",
       "      <td>1</td>\n",
       "      <td>Apple</td>\n",
       "    </tr>\n",
       "    <tr>\n",
       "      <th>2</th>\n",
       "      <td>@swonderlin Can not wait for #iPad 2 also. The...</td>\n",
       "      <td>iPad</td>\n",
       "      <td>1</td>\n",
       "      <td>Apple</td>\n",
       "    </tr>\n",
       "    <tr>\n",
       "      <th>3</th>\n",
       "      <td>@sxsw I hope this year's festival isn't as cra...</td>\n",
       "      <td>iPad or iPhone App</td>\n",
       "      <td>0</td>\n",
       "      <td>Apple</td>\n",
       "    </tr>\n",
       "    <tr>\n",
       "      <th>4</th>\n",
       "      <td>@sxtxstate great stuff on Fri #SXSW: Marissa M...</td>\n",
       "      <td>Google</td>\n",
       "      <td>1</td>\n",
       "      <td>Google</td>\n",
       "    </tr>\n",
       "  </tbody>\n",
       "</table>\n",
       "</div>"
      ],
      "text/plain": [
       "                                               Tweet             Product  \\\n",
       "0  .@wesley83 I have a 3G iPhone. After 3 hrs twe...              iPhone   \n",
       "1  @jessedee Know about @fludapp ? Awesome iPad/i...  iPad or iPhone App   \n",
       "2  @swonderlin Can not wait for #iPad 2 also. The...                iPad   \n",
       "3  @sxsw I hope this year's festival isn't as cra...  iPad or iPhone App   \n",
       "4  @sxtxstate great stuff on Fri #SXSW: Marissa M...              Google   \n",
       "\n",
       "   Sentiment   Brand  \n",
       "0          0   Apple  \n",
       "1          1   Apple  \n",
       "2          1   Apple  \n",
       "3          0   Apple  \n",
       "4          1  Google  "
      ]
     },
     "execution_count": 8,
     "metadata": {},
     "output_type": "execute_result"
    }
   ],
   "source": [
    "#Sanity Check\n",
    "cleaned.head()"
   ]
  },
  {
   "cell_type": "code",
   "execution_count": 9,
   "id": "f879fd1d",
   "metadata": {},
   "outputs": [],
   "source": [
    "#doing a test-train-split with a holdout set\n",
    "X = cleaned[['Tweet']]\n",
    "y = cleaned['Sentiment']\n",
    "#holdout set\n",
    "X_tr, X_test, y_tr, y_test = train_test_split(X, y, test_size=0.10, random_state=42)\n",
    "#training set\n",
    "X_train, X_val, y_train, y_val = train_test_split(X_tr, y_tr, test_size=0.25, random_state=42)"
   ]
  },
  {
   "cell_type": "code",
   "execution_count": 10,
   "id": "db2e07c5",
   "metadata": {},
   "outputs": [
    {
     "data": {
      "text/plain": [
       "0    0.67636\n",
       "1    0.32364\n",
       "Name: Sentiment, dtype: float64"
      ]
     },
     "execution_count": 10,
     "metadata": {},
     "output_type": "execute_result"
    }
   ],
   "source": [
    "#Baseline\n",
    "y_train.value_counts(normalize=True)"
   ]
  },
  {
   "cell_type": "code",
   "execution_count": 11,
   "id": "27bd9b94",
   "metadata": {},
   "outputs": [
    {
     "data": {
      "text/html": [
       "<div>\n",
       "<style scoped>\n",
       "    .dataframe tbody tr th:only-of-type {\n",
       "        vertical-align: middle;\n",
       "    }\n",
       "\n",
       "    .dataframe tbody tr th {\n",
       "        vertical-align: top;\n",
       "    }\n",
       "\n",
       "    .dataframe thead th {\n",
       "        text-align: right;\n",
       "    }\n",
       "</style>\n",
       "<table border=\"1\" class=\"dataframe\">\n",
       "  <thead>\n",
       "    <tr style=\"text-align: right;\">\n",
       "      <th></th>\n",
       "      <th>Tweet</th>\n",
       "    </tr>\n",
       "  </thead>\n",
       "  <tbody>\n",
       "    <tr>\n",
       "      <th>2320</th>\n",
       "      <td>@mention Can we make you an iPhone case with T...</td>\n",
       "    </tr>\n",
       "    <tr>\n",
       "      <th>5622</th>\n",
       "      <td>RT @mention Come party down with @mention &amp;amp...</td>\n",
       "    </tr>\n",
       "    <tr>\n",
       "      <th>1748</th>\n",
       "      <td>#winning #winning - just gave away 5 red mophi...</td>\n",
       "    </tr>\n",
       "    <tr>\n",
       "      <th>5789</th>\n",
       "      <td>RT @mention google &amp;amp; facebook have an offi...</td>\n",
       "    </tr>\n",
       "    <tr>\n",
       "      <th>3334</th>\n",
       "      <td>Rumor of Google launching their new social net...</td>\n",
       "    </tr>\n",
       "  </tbody>\n",
       "</table>\n",
       "</div>"
      ],
      "text/plain": [
       "                                                  Tweet\n",
       "2320  @mention Can we make you an iPhone case with T...\n",
       "5622  RT @mention Come party down with @mention &amp...\n",
       "1748  #winning #winning - just gave away 5 red mophi...\n",
       "5789  RT @mention google &amp; facebook have an offi...\n",
       "3334  Rumor of Google launching their new social net..."
      ]
     },
     "execution_count": 11,
     "metadata": {},
     "output_type": "execute_result"
    }
   ],
   "source": [
    "#Sanity Check\n",
    "X_train.head()"
   ]
  },
  {
   "cell_type": "code",
   "execution_count": 12,
   "id": "dd4fe761",
   "metadata": {},
   "outputs": [
    {
     "data": {
      "text/plain": [
       "(6121, 1)"
      ]
     },
     "execution_count": 12,
     "metadata": {},
     "output_type": "execute_result"
    }
   ],
   "source": [
    "#looking at shape of Training Data\n",
    "X_train.shape"
   ]
  },
  {
   "cell_type": "code",
   "execution_count": 13,
   "id": "2699ece2",
   "metadata": {},
   "outputs": [
    {
     "data": {
      "text/plain": [
       "(2041, 1)"
      ]
     },
     "execution_count": 13,
     "metadata": {},
     "output_type": "execute_result"
    }
   ],
   "source": [
    "#Lokking at shape of Testing Data\n",
    "X_val.shape"
   ]
  },
  {
   "cell_type": "code",
   "execution_count": 14,
   "id": "e1ae2d1a",
   "metadata": {},
   "outputs": [
    {
     "data": {
      "text/plain": [
       "'@mention Can we make you an iPhone case with TTYE on it just in time for #sxsw? We want to show our support!'"
      ]
     },
     "execution_count": 14,
     "metadata": {},
     "output_type": "execute_result"
    }
   ],
   "source": [
    "#test tweet for cleaning\n",
    "X_train[\"Tweet\"].iloc[0]"
   ]
  },
  {
   "cell_type": "code",
   "execution_count": 15,
   "id": "c59970ae",
   "metadata": {},
   "outputs": [],
   "source": [
    "#Instantiate necessary tools\n",
    "tokenizer = RegexpTokenizer(r\"(?u)\\w{3,}\")\n",
    "stopwords_list = set(stopwords.words(\"english\"))\n",
    "extra = [\"sxsw\",\"link\", \"apple\", \"google\"]\n",
    "stopwords_list = stopwords_list.union(extra) #adds link to stop words\n",
    "lemma = WordNetLemmatizer()\n",
    "tweet_tknzr = TweetTokenizer(strip_handles=True)"
   ]
  },
  {
   "cell_type": "code",
   "execution_count": 16,
   "id": "4737b4d6",
   "metadata": {},
   "outputs": [
    {
     "data": {
      "text/plain": [
       "'make iphone case ttye time want show support'"
      ]
     },
     "execution_count": 16,
     "metadata": {},
     "output_type": "execute_result"
    }
   ],
   "source": [
    "#Sanity Check\n",
    "clean_tweets(X_train[\"Tweet\"].iloc[0])"
   ]
  },
  {
   "cell_type": "code",
   "execution_count": 17,
   "id": "e03da935",
   "metadata": {},
   "outputs": [
    {
     "name": "stderr",
     "output_type": "stream",
     "text": [
      "C:\\Users\\david\\AppData\\Local\\Temp/ipykernel_59644/481070063.py:2: SettingWithCopyWarning: \n",
      "A value is trying to be set on a copy of a slice from a DataFrame.\n",
      "Try using .loc[row_indexer,col_indexer] = value instead\n",
      "\n",
      "See the caveats in the documentation: https://pandas.pydata.org/pandas-docs/stable/user_guide/indexing.html#returning-a-view-versus-a-copy\n",
      "  X_train['Tweet'] = X_train[\"Tweet\"].apply(lambda x: clean_tweets(x))\n",
      "C:\\Users\\david\\AppData\\Local\\Temp/ipykernel_59644/481070063.py:3: SettingWithCopyWarning: \n",
      "A value is trying to be set on a copy of a slice from a DataFrame.\n",
      "Try using .loc[row_indexer,col_indexer] = value instead\n",
      "\n",
      "See the caveats in the documentation: https://pandas.pydata.org/pandas-docs/stable/user_guide/indexing.html#returning-a-view-versus-a-copy\n",
      "  X_val['Tweet'] = X_val[\"Tweet\"].apply(lambda x: clean_tweets(x))\n"
     ]
    }
   ],
   "source": [
    "#Cleans the test and train sets\n",
    "X_train['Tweet'] = X_train[\"Tweet\"].apply(lambda x: clean_tweets(x))\n",
    "X_val['Tweet'] = X_val[\"Tweet\"].apply(lambda x: clean_tweets(x))"
   ]
  },
  {
   "cell_type": "code",
   "execution_count": 18,
   "id": "7220c652",
   "metadata": {},
   "outputs": [
    {
     "data": {
      "text/plain": [
       "(6121, 1)"
      ]
     },
     "execution_count": 18,
     "metadata": {},
     "output_type": "execute_result"
    }
   ],
   "source": [
    "X_train.shape"
   ]
  },
  {
   "cell_type": "code",
   "execution_count": 19,
   "id": "7be8546c",
   "metadata": {},
   "outputs": [
    {
     "data": {
      "text/html": [
       "<div>\n",
       "<style scoped>\n",
       "    .dataframe tbody tr th:only-of-type {\n",
       "        vertical-align: middle;\n",
       "    }\n",
       "\n",
       "    .dataframe tbody tr th {\n",
       "        vertical-align: top;\n",
       "    }\n",
       "\n",
       "    .dataframe thead th {\n",
       "        text-align: right;\n",
       "    }\n",
       "</style>\n",
       "<table border=\"1\" class=\"dataframe\">\n",
       "  <thead>\n",
       "    <tr style=\"text-align: right;\">\n",
       "      <th></th>\n",
       "      <th>Tweet</th>\n",
       "    </tr>\n",
       "  </thead>\n",
       "  <tbody>\n",
       "    <tr>\n",
       "      <th>2320</th>\n",
       "      <td>make iphone case ttye time want show support</td>\n",
       "    </tr>\n",
       "    <tr>\n",
       "      <th>5622</th>\n",
       "      <td>come party tonight band food art interactive map</td>\n",
       "    </tr>\n",
       "    <tr>\n",
       "      <th>1748</th>\n",
       "      <td>winning winning gave away red mophie juice pac...</td>\n",
       "    </tr>\n",
       "    <tr>\n",
       "      <th>5789</th>\n",
       "      <td>facebook official death policy vast majority d...</td>\n",
       "    </tr>\n",
       "    <tr>\n",
       "      <th>3334</th>\n",
       "      <td>rumor launching new social network called circ...</td>\n",
       "    </tr>\n",
       "  </tbody>\n",
       "</table>\n",
       "</div>"
      ],
      "text/plain": [
       "                                                  Tweet\n",
       "2320       make iphone case ttye time want show support\n",
       "5622   come party tonight band food art interactive map\n",
       "1748  winning winning gave away red mophie juice pac...\n",
       "5789  facebook official death policy vast majority d...\n",
       "3334  rumor launching new social network called circ..."
      ]
     },
     "execution_count": 19,
     "metadata": {},
     "output_type": "execute_result"
    }
   ],
   "source": [
    "#Sanity Check\n",
    "X_train.head()"
   ]
  },
  {
   "cell_type": "code",
   "execution_count": 20,
   "id": "5d402a82",
   "metadata": {},
   "outputs": [
    {
     "data": {
      "text/html": [
       "<div>\n",
       "<style scoped>\n",
       "    .dataframe tbody tr th:only-of-type {\n",
       "        vertical-align: middle;\n",
       "    }\n",
       "\n",
       "    .dataframe tbody tr th {\n",
       "        vertical-align: top;\n",
       "    }\n",
       "\n",
       "    .dataframe thead th {\n",
       "        text-align: right;\n",
       "    }\n",
       "</style>\n",
       "<table border=\"1\" class=\"dataframe\">\n",
       "  <thead>\n",
       "    <tr style=\"text-align: right;\">\n",
       "      <th></th>\n",
       "      <th>Tweet</th>\n",
       "    </tr>\n",
       "  </thead>\n",
       "  <tbody>\n",
       "    <tr>\n",
       "      <th>888</th>\n",
       "      <td>hootsuite mobile update iphone blackberry andr...</td>\n",
       "    </tr>\n",
       "    <tr>\n",
       "      <th>4191</th>\n",
       "      <td>morning hearing circle today</td>\n",
       "    </tr>\n",
       "    <tr>\n",
       "      <th>2161</th>\n",
       "      <td>great location choice nice timing ipad launch ...</td>\n",
       "    </tr>\n",
       "    <tr>\n",
       "      <th>1882</th>\n",
       "      <td>win ipad via</td>\n",
       "    </tr>\n",
       "    <tr>\n",
       "      <th>4693</th>\n",
       "      <td>launching product plenty else join h4ckers 80 ...</td>\n",
       "    </tr>\n",
       "  </tbody>\n",
       "</table>\n",
       "</div>"
      ],
      "text/plain": [
       "                                                  Tweet\n",
       "888   hootsuite mobile update iphone blackberry andr...\n",
       "4191                       morning hearing circle today\n",
       "2161  great location choice nice timing ipad launch ...\n",
       "1882                                       win ipad via\n",
       "4693  launching product plenty else join h4ckers 80 ..."
      ]
     },
     "execution_count": 20,
     "metadata": {},
     "output_type": "execute_result"
    }
   ],
   "source": [
    "#Sanity Check\n",
    "X_val.head()"
   ]
  },
  {
   "cell_type": "code",
   "execution_count": 21,
   "id": "9f209ca5",
   "metadata": {},
   "outputs": [
    {
     "data": {
      "text/plain": [
       "2320    0\n",
       "5622    1\n",
       "1748    0\n",
       "5789    0\n",
       "3334    0\n",
       "Name: Sentiment, dtype: int64"
      ]
     },
     "execution_count": 21,
     "metadata": {},
     "output_type": "execute_result"
    }
   ],
   "source": [
    "#Sanity Check\n",
    "y_train.head()"
   ]
  },
  {
   "cell_type": "code",
   "execution_count": 22,
   "id": "0caccab1",
   "metadata": {},
   "outputs": [
    {
     "data": {
      "text/plain": [
       "888     0\n",
       "4191    0\n",
       "2161    1\n",
       "1882    1\n",
       "4693    0\n",
       "Name: Sentiment, dtype: int64"
      ]
     },
     "execution_count": 22,
     "metadata": {},
     "output_type": "execute_result"
    }
   ],
   "source": [
    "#Sanity Check\n",
    "y_val.head()"
   ]
  },
  {
   "cell_type": "markdown",
   "id": "d90e0aa6",
   "metadata": {},
   "source": [
    "# Neural Network with GLoVE"
   ]
  },
  {
   "cell_type": "code",
   "execution_count": 23,
   "id": "52b8e854",
   "metadata": {},
   "outputs": [],
   "source": [
    "# Sets the sets as a Series Object\n",
    "X_train = X_train[\"Tweet\"]\n",
    "X_val = X_val[\"Tweet\"]"
   ]
  },
  {
   "cell_type": "code",
   "execution_count": 24,
   "id": "97885646",
   "metadata": {},
   "outputs": [
    {
     "name": "stdout",
     "output_type": "stream",
     "text": [
      "<class 'pandas.core.series.Series'>\n",
      "<class 'pandas.core.series.Series'>\n"
     ]
    }
   ],
   "source": [
    "print(type(X_train))\n",
    "print(type(X_val))"
   ]
  },
  {
   "cell_type": "code",
   "execution_count": 25,
   "id": "6a2780b8",
   "metadata": {},
   "outputs": [
    {
     "data": {
      "text/plain": [
       "18"
      ]
     },
     "execution_count": 25,
     "metadata": {},
     "output_type": "execute_result"
    }
   ],
   "source": [
    "#How long is our longest tweet\n",
    "max_length = max([len(tweet.split()) for tweet in X_train])\n",
    "max_length"
   ]
  },
  {
   "cell_type": "code",
   "execution_count": 26,
   "id": "56c45db6",
   "metadata": {},
   "outputs": [
    {
     "data": {
      "text/plain": [
       "(6121,)"
      ]
     },
     "execution_count": 26,
     "metadata": {},
     "output_type": "execute_result"
    }
   ],
   "source": [
    "#Sanity Check\n",
    "X_train.shape"
   ]
  },
  {
   "cell_type": "code",
   "execution_count": 27,
   "id": "3215c05b",
   "metadata": {},
   "outputs": [],
   "source": [
    "# Instatiate the Tokenizer\n",
    "k_tokenizer = keras.preprocessing.text.Tokenizer()\n",
    "\n",
    "#fit the tokenizer\n",
    "k_tokenizer.fit_on_texts(X_train)\n",
    "\n",
    "#\n",
    "X_train_token = k_tokenizer.texts_to_sequences(X_train)\n",
    "X_val_token = k_tokenizer.texts_to_sequences(X_val)"
   ]
  },
  {
   "cell_type": "code",
   "execution_count": 28,
   "id": "b1338228",
   "metadata": {},
   "outputs": [],
   "source": [
    "#pads the tweets for equal length\n",
    "X_train_processed = keras.preprocessing.sequence.pad_sequences(\n",
    "    X_train_token, maxlen=max_length, padding='post')\n",
    "X_val_processed = keras.preprocessing.sequence.pad_sequences(\n",
    "    X_val_token, maxlen=max_length, padding='post')"
   ]
  },
  {
   "cell_type": "code",
   "execution_count": 29,
   "id": "28aa016e",
   "metadata": {},
   "outputs": [
    {
     "data": {
      "text/plain": [
       "(6121, 18)"
      ]
     },
     "execution_count": 29,
     "metadata": {},
     "output_type": "execute_result"
    }
   ],
   "source": [
    "X_train_processed.shape"
   ]
  },
  {
   "cell_type": "code",
   "execution_count": 30,
   "id": "e2f2b32c",
   "metadata": {},
   "outputs": [
    {
     "name": "stdout",
     "output_type": "stream",
     "text": [
      "7137\n"
     ]
    }
   ],
   "source": [
    "#checks word length list\n",
    "vocab_size = len(k_tokenizer.word_index) + 1\n",
    "maxlen= 100\n",
    "print(vocab_size)"
   ]
  },
  {
   "cell_type": "markdown",
   "id": "4fd78115",
   "metadata": {},
   "source": [
    "The following Fuction Can be found here : https://github.com/flatiron-school/DSLE-083021-Phase4-NN-Review"
   ]
  },
  {
   "cell_type": "markdown",
   "id": "f9589fe3",
   "metadata": {},
   "source": [
    "GloVE file to large for Git Hub, can be found here: https://nlp.stanford.edu/projects/glove/"
   ]
  },
  {
   "cell_type": "code",
   "execution_count": 32,
   "id": "7a610395",
   "metadata": {},
   "outputs": [],
   "source": [
    "#sets the embedding dimensions\n",
    "embedding_dim = 50\n",
    "embedding_matrix = create_embedding_matrix('glove.6B.50d.txt',\n",
    "                                           k_tokenizer.word_index, \n",
    "                                           embedding_dim)"
   ]
  },
  {
   "cell_type": "markdown",
   "id": "1e3287de",
   "metadata": {},
   "source": [
    "## Baseline Neural Network\n",
    "\n",
    "This is sequential neural network only has an input and output layey to act as a baseline model."
   ]
  },
  {
   "cell_type": "code",
   "execution_count": 33,
   "id": "a53b0058",
   "metadata": {},
   "outputs": [
    {
     "name": "stdout",
     "output_type": "stream",
     "text": [
      "Model: \"sequential\"\n",
      "_________________________________________________________________\n",
      "Layer (type)                 Output Shape              Param #   \n",
      "=================================================================\n",
      "embedding (Embedding)        (None, 18, 50)            356850    \n",
      "_________________________________________________________________\n",
      "flatten (Flatten)            (None, 900)               0         \n",
      "_________________________________________________________________\n",
      "dense (Dense)                (None, 1)                 901       \n",
      "=================================================================\n",
      "Total params: 357,751\n",
      "Trainable params: 357,751\n",
      "Non-trainable params: 0\n",
      "_________________________________________________________________\n"
     ]
    }
   ],
   "source": [
    "#Instatiate Model\n",
    "model = keras.models.Sequential()\n",
    "model.add(layers.Embedding(vocab_size, embedding_dim, #adds initial embedded layer\n",
    "                           weights=[embedding_matrix], \n",
    "                           input_length=max_length, \n",
    "                           trainable=True))\n",
    "model.add(layers.Flatten()) # flattening these layers down before connecting to dense layer\n",
    "model.add(layers.Dense(1, activation='sigmoid')) #defines output layer\n",
    "\n",
    "model.compile(optimizer='adam', \n",
    "              loss='binary_crossentropy',\n",
    "              metrics=['accuracy'])\n",
    "\n",
    "model.summary()"
   ]
  },
  {
   "cell_type": "code",
   "execution_count": 34,
   "id": "3946fdbc",
   "metadata": {},
   "outputs": [
    {
     "name": "stdout",
     "output_type": "stream",
     "text": [
      "Epoch 1/10\n",
      "123/123 [==============================] - 2s 16ms/step - loss: 0.6660 - accuracy: 0.6288 - val_loss: 0.6343 - val_accuracy: 0.6521\n",
      "Epoch 2/10\n",
      "123/123 [==============================] - 1s 11ms/step - loss: 0.5904 - accuracy: 0.6937 - val_loss: 0.6086 - val_accuracy: 0.6649\n",
      "Epoch 3/10\n",
      "123/123 [==============================] - 1s 10ms/step - loss: 0.5449 - accuracy: 0.7272 - val_loss: 0.5955 - val_accuracy: 0.6712\n",
      "Epoch 4/10\n",
      "123/123 [==============================] - 1s 11ms/step - loss: 0.4993 - accuracy: 0.7661 - val_loss: 0.5815 - val_accuracy: 0.6952\n",
      "Epoch 5/10\n",
      "123/123 [==============================] - 1s 10ms/step - loss: 0.4546 - accuracy: 0.7971 - val_loss: 0.5729 - val_accuracy: 0.6997\n",
      "Epoch 6/10\n",
      "123/123 [==============================] - 1s 10ms/step - loss: 0.4072 - accuracy: 0.8278 - val_loss: 0.5686 - val_accuracy: 0.7065\n",
      "Epoch 7/10\n",
      "123/123 [==============================] - 1s 11ms/step - loss: 0.3624 - accuracy: 0.8507 - val_loss: 0.5687 - val_accuracy: 0.7095\n",
      "Epoch 8/10\n",
      "123/123 [==============================] - 1s 11ms/step - loss: 0.3210 - accuracy: 0.8801 - val_loss: 0.5770 - val_accuracy: 0.7148\n",
      "Epoch 9/10\n",
      "123/123 [==============================] - 1s 11ms/step - loss: 0.2849 - accuracy: 0.8972 - val_loss: 0.5816 - val_accuracy: 0.7197\n",
      "Epoch 10/10\n",
      "123/123 [==============================] - 1s 10ms/step - loss: 0.2536 - accuracy: 0.9118 - val_loss: 0.5919 - val_accuracy: 0.7197\n"
     ]
    }
   ],
   "source": [
    "history = model.fit(X_train_processed, y_train, \n",
    "                    batch_size=50, \n",
    "                    epochs=10, \n",
    "                    validation_data=(X_val_processed, y_val))"
   ]
  },
  {
   "cell_type": "code",
   "execution_count": 44,
   "id": "70177140",
   "metadata": {},
   "outputs": [
    {
     "name": "stdout",
     "output_type": "stream",
     "text": [
      "Test loss: 0.7259404063224792\n",
      "Test accuracy: 0.7349338531494141\n"
     ]
    }
   ],
   "source": [
    "score = model.evaluate(X_val_processed, y_val, verbose=0)\n",
    "print(\"Test loss:\", score[0])\n",
    "print(\"Test accuracy:\", score[1])"
   ]
  },
  {
   "cell_type": "code",
   "execution_count": 36,
   "id": "900edf84",
   "metadata": {},
   "outputs": [
    {
     "data": {
      "image/png": "[encoded data removed]",
      "text/plain": [
       "<Figure size 432x288 with 2 Axes>"
      ]
     },
     "metadata": {
      "needs_background": "light"
     },
     "output_type": "display_data"
    }
   ],
   "source": [
    "visualize_training_results(history)"
   ]
  },
  {
   "cell_type": "markdown",
   "id": "8690c531",
   "metadata": {},
   "source": [
    "This model is extremely overfitting, adding some hidden and Dropout layers to help with the previous overfitting."
   ]
  },
  {
   "cell_type": "code",
   "execution_count": 48,
   "id": "f4c62ab8",
   "metadata": {},
   "outputs": [
    {
     "name": "stdout",
     "output_type": "stream",
     "text": [
      "Model: \"sequential_2\"\n",
      "_________________________________________________________________\n",
      "Layer (type)                 Output Shape              Param #   \n",
      "=================================================================\n",
      "embedding_2 (Embedding)      (None, 18, 50)            356850    \n",
      "_________________________________________________________________\n",
      "flatten_2 (Flatten)          (None, 900)               0         \n",
      "_________________________________________________________________\n",
      "dropout_2 (Dropout)          (None, 900)               0         \n",
      "_________________________________________________________________\n",
      "dense_4 (Dense)              (None, 350)               315350    \n",
      "_________________________________________________________________\n",
      "dropout_3 (Dropout)          (None, 350)               0         \n",
      "_________________________________________________________________\n",
      "dense_5 (Dense)              (None, 350)               122850    \n",
      "_________________________________________________________________\n",
      "dense_6 (Dense)              (None, 1)                 351       \n",
      "=================================================================\n",
      "Total params: 795,401\n",
      "Trainable params: 795,401\n",
      "Non-trainable params: 0\n",
      "_________________________________________________________________\n"
     ]
    }
   ],
   "source": [
    "model = keras.models.Sequential()\n",
    "model.add(layers.Embedding(vocab_size, embedding_dim, \n",
    "                           weights=[embedding_matrix], \n",
    "                           input_length=max_length, \n",
    "                           trainable=True))\n",
    "model.add(layers.Flatten()) # flattening these layers down before connecting to dense layer\n",
    "model.add(Dropout(0.5))\n",
    "model.add(layers.Dense(350, activation='sigmoid'))\n",
    "model.add(Dropout(0.5))\n",
    "model.add(layers.Dense(350))\n",
    "model.add(layers.Dense(1, activation='sigmoid'))\n",
    "\n",
    "model.compile(optimizer='adam',\n",
    "              loss='binary_crossentropy',\n",
    "              metrics=['accuracy'])\n",
    "\n",
    "model.summary()"
   ]
  },
  {
   "cell_type": "code",
   "execution_count": 49,
   "id": "26385821",
   "metadata": {},
   "outputs": [
    {
     "name": "stdout",
     "output_type": "stream",
     "text": [
      "Epoch 1/10\n",
      "123/123 [==============================] - 2s 19ms/step - loss: 0.7207 - accuracy: 0.6296 - val_loss: 0.6100 - val_accuracy: 0.6644\n",
      "Epoch 2/10\n",
      "123/123 [==============================] - 2s 14ms/step - loss: 0.6450 - accuracy: 0.6486 - val_loss: 0.6205 - val_accuracy: 0.6624\n",
      "Epoch 3/10\n",
      "123/123 [==============================] - 2s 14ms/step - loss: 0.6097 - accuracy: 0.6767 - val_loss: 0.5886 - val_accuracy: 0.6737\n",
      "Epoch 4/10\n",
      "123/123 [==============================] - 2s 15ms/step - loss: 0.5940 - accuracy: 0.6911 - val_loss: 0.5799 - val_accuracy: 0.6796\n",
      "Epoch 5/10\n",
      "123/123 [==============================] - 2s 16ms/step - loss: 0.5550 - accuracy: 0.7183 - val_loss: 0.5709 - val_accuracy: 0.6977\n",
      "Epoch 6/10\n",
      "123/123 [==============================] - 2s 18ms/step - loss: 0.5266 - accuracy: 0.7401 - val_loss: 0.5587 - val_accuracy: 0.7060\n",
      "Epoch 7/10\n",
      "123/123 [==============================] - 2s 16ms/step - loss: 0.4995 - accuracy: 0.7499 - val_loss: 0.5897 - val_accuracy: 0.6933\n",
      "Epoch 8/10\n",
      "123/123 [==============================] - 2s 18ms/step - loss: 0.4832 - accuracy: 0.7652 - val_loss: 0.5555 - val_accuracy: 0.7090\n",
      "Epoch 9/10\n",
      "123/123 [==============================] - 2s 17ms/step - loss: 0.4507 - accuracy: 0.7860 - val_loss: 0.5602 - val_accuracy: 0.7153\n",
      "Epoch 10/10\n",
      "123/123 [==============================] - 2s 17ms/step - loss: 0.4303 - accuracy: 0.7933 - val_loss: 0.5513 - val_accuracy: 0.7271\n"
     ]
    }
   ],
   "source": [
    "history = model.fit(X_train_processed, y_train, \n",
    "                    batch_size=50, \n",
    "                    epochs=10, \n",
    "                    validation_data=(X_val_processed, y_val))"
   ]
  },
  {
   "cell_type": "code",
   "execution_count": 50,
   "id": "5ff00270",
   "metadata": {},
   "outputs": [
    {
     "name": "stdout",
     "output_type": "stream",
     "text": [
      "Test loss: 0.5513203740119934\n",
      "Test accuracy: 0.7270945906639099\n"
     ]
    }
   ],
   "source": [
    "score = model.evaluate(X_val_processed, y_val, verbose=0)\n",
    "print(\"Test loss:\", score[0])\n",
    "print(\"Test accuracy:\", score[1])"
   ]
  },
  {
   "cell_type": "markdown",
   "id": "862d7244",
   "metadata": {},
   "source": [
    "Following Function can be found here : https://github.com/flatiron-school/DSLE-083021-Phase4-NN-Review"
   ]
  },
  {
   "cell_type": "code",
   "execution_count": 51,
   "id": "533fc1c4",
   "metadata": {},
   "outputs": [
    {
     "data": {
      "image/png": "[encoded data removed]",
      "text/plain": [
       "<Figure size 432x288 with 2 Axes>"
      ]
     },
     "metadata": {
      "needs_background": "light"
     },
     "output_type": "display_data"
    }
   ],
   "source": [
    "visualize_training_results(history)"
   ]
  },
  {
   "cell_type": "markdown",
   "id": "d29cc833",
   "metadata": {},
   "source": [
    "The model is performing better, but is still over fitting. Next we will add some regularization to model to solve the overfittiing."
   ]
  },
  {
   "cell_type": "markdown",
   "id": "52ec83fa",
   "metadata": {},
   "source": [
    "# Nueral Network with Regularization"
   ]
  },
  {
   "cell_type": "code",
   "execution_count": 40,
   "id": "75a52d25",
   "metadata": {
    "scrolled": false
   },
   "outputs": [
    {
     "name": "stdout",
     "output_type": "stream",
     "text": [
      "Model: \"sequential_1\"\n",
      "_________________________________________________________________\n",
      "Layer (type)                 Output Shape              Param #   \n",
      "=================================================================\n",
      "embedding_1 (Embedding)      (None, 18, 50)            356850    \n",
      "_________________________________________________________________\n",
      "flatten_1 (Flatten)          (None, 900)               0         \n",
      "_________________________________________________________________\n",
      "dropout (Dropout)            (None, 900)               0         \n",
      "_________________________________________________________________\n",
      "dense_1 (Dense)              (None, 350)               315350    \n",
      "_________________________________________________________________\n",
      "dropout_1 (Dropout)          (None, 350)               0         \n",
      "_________________________________________________________________\n",
      "dense_2 (Dense)              (None, 350)               122850    \n",
      "_________________________________________________________________\n",
      "dense_3 (Dense)              (None, 1)                 351       \n",
      "=================================================================\n",
      "Total params: 795,401\n",
      "Trainable params: 795,401\n",
      "Non-trainable params: 0\n",
      "_________________________________________________________________\n"
     ]
    }
   ],
   "source": [
    "model = keras.models.Sequential()\n",
    "model.add(layers.Embedding(vocab_size, embedding_dim, \n",
    "                           weights=[embedding_matrix], \n",
    "                           input_length=max_length, \n",
    "                           trainable=True))\n",
    "model.add(layers.Flatten()) # flattening these layers down before connecting to dense layer\n",
    "model.add(Dropout(0.5))\n",
    "model.add(layers.Dense(350, activation='sigmoid',\n",
    "                       kernel_regularizer=regularizers.l2(l2=1e-3),\n",
    "                       bias_regularizer=regularizers.l2(1e-3),\n",
    "                      activity_regularizer=regularizers.l2(1e-3)))\n",
    "model.add(Dropout(0.5))\n",
    "model.add(layers.Dense(350, activation='sigmoid',\n",
    "                       kernel_regularizer=regularizers.l2(l2=1e-3),\n",
    "                       bias_regularizer=regularizers.l2(1e-3),\n",
    "                      activity_regularizer=regularizers.l2(1e-3)))\n",
    "model.add(layers.Dense(1, activation='sigmoid'))\n",
    "\n",
    "model.compile(optimizer='adam',\n",
    "              loss='binary_crossentropy',\n",
    "              metrics=['accuracy'])\n",
    "\n",
    "model.summary()"
   ]
  },
  {
   "cell_type": "code",
   "execution_count": 41,
   "id": "2b4c0123",
   "metadata": {},
   "outputs": [
    {
     "name": "stdout",
     "output_type": "stream",
     "text": [
      "Epoch 1/20\n",
      "123/123 [==============================] - 3s 21ms/step - loss: 1.1544 - accuracy: 0.6692 - val_loss: 0.9117 - val_accuracy: 0.6619\n",
      "Epoch 2/20\n",
      "123/123 [==============================] - 2s 16ms/step - loss: 0.8459 - accuracy: 0.6777 - val_loss: 0.7936 - val_accuracy: 0.6634\n",
      "Epoch 3/20\n",
      "123/123 [==============================] - 2s 16ms/step - loss: 0.7636 - accuracy: 0.6844 - val_loss: 0.7616 - val_accuracy: 0.6850\n",
      "Epoch 4/20\n",
      "123/123 [==============================] - 2s 16ms/step - loss: 0.7197 - accuracy: 0.7040 - val_loss: 0.7156 - val_accuracy: 0.6908\n",
      "Epoch 5/20\n",
      "123/123 [==============================] - 2s 15ms/step - loss: 0.6923 - accuracy: 0.7174 - val_loss: 0.7076 - val_accuracy: 0.6952\n",
      "Epoch 6/20\n",
      "123/123 [==============================] - 2s 16ms/step - loss: 0.6691 - accuracy: 0.7417 - val_loss: 0.6927 - val_accuracy: 0.7109\n",
      "Epoch 7/20\n",
      "123/123 [==============================] - 2s 15ms/step - loss: 0.6519 - accuracy: 0.7527 - val_loss: 0.7118 - val_accuracy: 0.6957\n",
      "Epoch 8/20\n",
      "123/123 [==============================] - 2s 14ms/step - loss: 0.6391 - accuracy: 0.7605 - val_loss: 0.6858 - val_accuracy: 0.7232\n",
      "Epoch 9/20\n",
      "123/123 [==============================] - 2s 17ms/step - loss: 0.6127 - accuracy: 0.7754 - val_loss: 0.6890 - val_accuracy: 0.7369\n",
      "Epoch 10/20\n",
      "123/123 [==============================] - 2s 17ms/step - loss: 0.6005 - accuracy: 0.7935 - val_loss: 0.6908 - val_accuracy: 0.7286\n",
      "Epoch 11/20\n",
      "123/123 [==============================] - 2s 16ms/step - loss: 0.5833 - accuracy: 0.7979 - val_loss: 0.6892 - val_accuracy: 0.7276\n",
      "Epoch 12/20\n",
      "123/123 [==============================] - 2s 16ms/step - loss: 0.5668 - accuracy: 0.8116 - val_loss: 0.7008 - val_accuracy: 0.7276\n",
      "Epoch 13/20\n",
      "123/123 [==============================] - 2s 16ms/step - loss: 0.5509 - accuracy: 0.8193 - val_loss: 0.7134 - val_accuracy: 0.7099\n",
      "Epoch 14/20\n",
      "123/123 [==============================] - 2s 16ms/step - loss: 0.5344 - accuracy: 0.8249 - val_loss: 0.7061 - val_accuracy: 0.7315\n",
      "Epoch 15/20\n",
      "123/123 [==============================] - 2s 17ms/step - loss: 0.5233 - accuracy: 0.8363 - val_loss: 0.7115 - val_accuracy: 0.7408\n",
      "Epoch 16/20\n",
      "123/123 [==============================] - 2s 16ms/step - loss: 0.5171 - accuracy: 0.8373 - val_loss: 0.7134 - val_accuracy: 0.7335\n",
      "Epoch 17/20\n",
      "123/123 [==============================] - 2s 16ms/step - loss: 0.5053 - accuracy: 0.8450 - val_loss: 0.7300 - val_accuracy: 0.7163\n",
      "Epoch 18/20\n",
      "123/123 [==============================] - 2s 17ms/step - loss: 0.4907 - accuracy: 0.8539 - val_loss: 0.7297 - val_accuracy: 0.7271\n",
      "Epoch 19/20\n",
      "123/123 [==============================] - 2s 16ms/step - loss: 0.4908 - accuracy: 0.8525 - val_loss: 0.7428 - val_accuracy: 0.7340\n",
      "Epoch 20/20\n",
      "123/123 [==============================] - 2s 17ms/step - loss: 0.4760 - accuracy: 0.8667 - val_loss: 0.7259 - val_accuracy: 0.7349\n"
     ]
    }
   ],
   "source": [
    "history = model.fit(X_train_processed, y_train, \n",
    "                    batch_size=50, \n",
    "                    epochs=20, \n",
    "                    validation_data=(X_val_processed, y_val))"
   ]
  },
  {
   "cell_type": "code",
   "execution_count": 42,
   "id": "6adffa49",
   "metadata": {},
   "outputs": [
    {
     "data": {
      "image/png": "[encoded data removed]",
      "text/plain": [
       "<Figure size 432x288 with 2 Axes>"
      ]
     },
     "metadata": {
      "needs_background": "light"
     },
     "output_type": "display_data"
    }
   ],
   "source": [
    "visualize_training_results(history)"
   ]
  },
  {
   "cell_type": "code",
   "execution_count": null,
   "id": "559db58e",
   "metadata": {},
   "outputs": [],
   "source": []
  }
 ],
 "metadata": {
  "kernelspec": {
   "display_name": "Python (learn-env)",
   "language": "python",
   "name": "learn-env"
  },
  "language_info": {
   "codemirror_mode": {
    "name": "ipython",
    "version": 3
   },
   "file_extension": ".py",
   "mimetype": "text/x-python",
   "name": "python",
   "nbconvert_exporter": "python",
   "pygments_lexer": "ipython3",
   "version": "3.8.11"
  }
 },
 "nbformat": 4,
 "nbformat_minor": 5
}
