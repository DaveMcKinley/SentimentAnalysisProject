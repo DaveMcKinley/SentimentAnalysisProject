{
 "cells": [
  {
   "cell_type": "markdown",
   "metadata": {},
   "source": [
    "# Tweet Sentiment Analysis Project\n",
    "\n",
    "by Garrett Williams, Dave McKinley and Ely Lin of Sphinx Consulting"
   ]
  },
  {
   "cell_type": "markdown",
   "metadata": {},
   "source": [
    "## Overview"
   ]
  },
  {
   "cell_type": "markdown",
   "metadata": {},
   "source": [
    "**Business Problem:**\n",
    "\n",
    "In a world where technology startups are plentiful, consumer sentiment towards a brand can give us a lot of insights into their purchasing decisions, hence the financial performance of the company that makes them. Technology investment company WhiteOre have acquired our services to build them a predictive model that monitors recent tweets on technology products to help them make informed investment decisions. WhiteOre wants a generalizable model to gauge sentiment across different brands, to act as a filtering system to help decide which brands to investigate further for possible investment. WhiteOre only cares about whether people have positive emotions towards the brand because people buy things they like. \n",
    "\n",
    "\n",
    "**Target Audience:**\n",
    "\n",
    "The hedge fund and private equity department of WhiteOre\n",
    "\n",
    "**Context:**\n",
    "\n",
    "False positive in this case would mean our model predicts that a consumer has positive emotions towards a brand but they actually don't, leading to overvaluing of a potential investment opportunity and wasting human capital.\n",
    "\n",
    "False negative in this case would mean our model predicts that a consumer doesn't have positive emotions towards a brand but they actually do, leading to missing a potential investment opportunity.\n",
    "\n",
    "**Evaluation:**\n",
    "\n",
    "We don't want to overvalue or undervalue a company, however, the cost of missing the opportunity of getting in early on a good brand that's generating buzz is bigger than spending human resources to evaluate a company and finding out it's not worth investing in. Therefore, we care about maximizing accuracy as well as recall.\n",
    "\n",
    "**Data Understanding:**\n",
    "\n",
    "The dataset comes from CrowdFlower via data.world. Human raters rated the sentiment in over 9,000 Tweets as positive, negative, or neither. The tweets included are sent out during the South by South West conference in 2013, mostly about Google and Apple products.\n",
    "\n",
    "Data source: https://data.world/crowdflower/brands-and-product-emotions\n",
    "\n",
    "**Modeling**\n",
    "\n",
    "We used nltk's tweet tokenizer to tokenize the tweets and tfidf vectorizer to vectorize them. \n",
    "\n",
    "Modeling techniques include logistic regression, decision trees, random forest, naive bayes, catboost and neural network. \n",
    "\n",
    "**Evaluation**\n",
    "\n",
    "We are able to achieve above 70% accuracy on both training data and testing data on both our naive bayes and neural netword models without overfitting. However, naive bayes requires significantly less computational power so we decide to use naive bayes as our final model. "
   ]
  },
  {
   "cell_type": "markdown",
   "metadata": {},
   "source": [
    "## Business Problem"
   ]
  },
  {
   "cell_type": "markdown",
   "metadata": {},
   "source": [
    "## Data Understanding"
   ]
  },
  {
   "cell_type": "markdown",
   "metadata": {},
   "source": [
    "## Modeling"
   ]
  },
  {
   "cell_type": "markdown",
   "metadata": {},
   "source": [
    "## Evaluation"
   ]
  },
  {
   "cell_type": "code",
   "execution_count": null,
   "metadata": {},
   "outputs": [],
   "source": []
  }
 ],
 "metadata": {
  "kernelspec": {
   "display_name": "Python (learn-env)",
   "language": "python",
   "name": "learn-env"
  },
  "language_info": {
   "codemirror_mode": {
    "name": "ipython",
    "version": 3
   },
   "file_extension": ".py",
   "mimetype": "text/x-python",
   "name": "python",
   "nbconvert_exporter": "python",
   "pygments_lexer": "ipython3",
   "version": "3.8.5"
  }
 },
 "nbformat": 4,
 "nbformat_minor": 4
}
